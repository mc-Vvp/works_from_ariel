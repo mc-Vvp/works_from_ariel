{
 "cells": [
  {
   "cell_type": "code",
   "execution_count": 1,
   "metadata": {},
   "outputs": [],
   "source": [
    "import numpy as np"
   ]
  },
  {
   "cell_type": "code",
   "execution_count": 2,
   "metadata": {},
   "outputs": [
    {
     "name": "stdout",
     "output_type": "stream",
     "text": [
      "[1, 2, 3, 4, 5, 6, 7, 8, 9, 10, 11, 12, 13, 14, 15, 16, 17, 18, 19, 20, 21, 22, 23, 24, 25, 26, 27, 28, 29, 30]\n"
     ]
    }
   ],
   "source": [
    "lst = []\n",
    "for i in range(1,31):\n",
    "    lst.append(i)\n",
    "print(lst)"
   ]
  },
  {
   "cell_type": "code",
   "execution_count": 3,
   "metadata": {},
   "outputs": [
    {
     "data": {
      "text/plain": [
       "array([ 1,  2,  3,  4,  5,  6,  7,  8,  9, 10, 11, 12, 13, 14, 15, 16, 17,\n",
       "       18, 19, 20, 21, 22, 23, 24, 25, 26, 27, 28, 29, 30])"
      ]
     },
     "execution_count": 3,
     "metadata": {},
     "output_type": "execute_result"
    }
   ],
   "source": [
    "arr = np.array(lst)\n",
    "arr"
   ]
  },
  {
   "cell_type": "code",
   "execution_count": 4,
   "metadata": {},
   "outputs": [
    {
     "data": {
      "text/plain": [
       "array([[ 1,  2,  3,  4,  5],\n",
       "       [ 6,  7,  8,  9, 10],\n",
       "       [11, 12, 13, 14, 15],\n",
       "       [16, 17, 18, 19, 20],\n",
       "       [21, 22, 23, 24, 25],\n",
       "       [26, 27, 28, 29, 30]])"
      ]
     },
     "execution_count": 4,
     "metadata": {},
     "output_type": "execute_result"
    }
   ],
   "source": [
    "my_matrix = arr.reshape(6,5)\n",
    "my_matrix"
   ]
  },
  {
   "cell_type": "code",
   "execution_count": 5,
   "metadata": {},
   "outputs": [
    {
     "data": {
      "text/plain": [
       "65"
      ]
     },
     "execution_count": 5,
     "metadata": {},
     "output_type": "execute_result"
    }
   ],
   "source": [
    "my_sum = 0\n",
    "for i in range(5):\n",
    "    my_sum = my_sum + my_matrix[i][i]\n",
    "my_sum"
   ]
  },
  {
   "cell_type": "code",
   "execution_count": 6,
   "metadata": {},
   "outputs": [
    {
     "data": {
      "text/plain": [
       "40"
      ]
     },
     "execution_count": 6,
     "metadata": {},
     "output_type": "execute_result"
    }
   ],
   "source": [
    "row_sum = 0\n",
    "for i in range(5):\n",
    "    row_sum = row_sum + my_matrix[1][i]\n",
    "row_sum"
   ]
  },
  {
   "cell_type": "code",
   "execution_count": 7,
   "metadata": {},
   "outputs": [
    {
     "data": {
      "text/plain": [
       "array([[1., 1., 1., 1., 1.],\n",
       "       [1., 1., 1., 1., 1.],\n",
       "       [1., 1., 1., 1., 1.],\n",
       "       [1., 1., 1., 1., 1.],\n",
       "       [1., 1., 1., 1., 1.],\n",
       "       [1., 1., 1., 1., 1.]])"
      ]
     },
     "execution_count": 7,
     "metadata": {},
     "output_type": "execute_result"
    }
   ],
   "source": [
    "ones_matrix = np.ones((6,5))\n",
    "ones_matrix"
   ]
  },
  {
   "cell_type": "code",
   "execution_count": 8,
   "metadata": {},
   "outputs": [
    {
     "data": {
      "text/plain": [
       "array([[ 2.,  3.,  4.,  5.,  6.],\n",
       "       [ 7.,  8.,  9., 10., 11.],\n",
       "       [12., 13., 14., 15., 16.],\n",
       "       [17., 18., 19., 20., 21.],\n",
       "       [22., 23., 24., 25., 26.],\n",
       "       [27., 28., 29., 30., 31.]])"
      ]
     },
     "execution_count": 8,
     "metadata": {},
     "output_type": "execute_result"
    }
   ],
   "source": [
    "ones_matrix + my_matrix"
   ]
  },
  {
   "cell_type": "code",
   "execution_count": 9,
   "metadata": {},
   "outputs": [
    {
     "data": {
      "text/plain": [
       "array([[200, 423, 154, 522,   0, 291,  54, 464, 321, 616, 716, 472, 450,\n",
       "        964, 851, 956, 793, 256, 942, 632, 874, 311, 230, 469, 141, 149,\n",
       "        426, 633, 971, 251],\n",
       "       [540,  99, 416, 996, 929, 771, 421, 325, 336, 428, 554,  41, 140,\n",
       "        349, 705, 312, 660, 170, 128, 951, 646,   3, 744,  78, 890, 854,\n",
       "        534, 869, 812, 536],\n",
       "       [ 69, 895, 533, 336, 112, 108, 724, 571, 973, 212, 558, 188,  73,\n",
       "        513, 833, 514, 600, 508, 114, 356,  10, 694, 895, 358, 627, 487,\n",
       "        652, 338, 260, 588],\n",
       "       [568, 530, 466, 959, 825, 171, 975, 623, 841, 113, 683, 767,  49,\n",
       "        472, 407, 219, 903, 807, 101, 554, 776, 543, 140, 477, 554, 382,\n",
       "         34, 107, 427, 286],\n",
       "       [301, 158, 493, 747, 786, 553, 313, 164, 398, 939, 262, 989, 172,\n",
       "         10, 829, 236, 255, 926, 160, 806, 389, 984, 911, 900, 474, 916,\n",
       "        325, 651, 414, 717],\n",
       "       [160, 326, 618, 495, 606, 769, 721, 881, 998, 742, 800, 736, 846,\n",
       "        480, 509, 732, 582, 895, 783, 695, 541, 404, 181, 267, 683, 316,\n",
       "        881, 360, 565,  63],\n",
       "       [730, 892, 398, 963, 180,  68, 466, 425, 366, 473, 200, 336, 452,\n",
       "        327, 162, 399, 373, 967, 860, 477, 218, 802,  21, 187, 904, 538,\n",
       "        331, 706, 450, 816],\n",
       "       [  6, 719, 705, 724, 819, 296, 984, 796, 958, 920, 171,  45, 335,\n",
       "        542, 442, 733, 306, 118, 309, 344, 363, 624, 654, 749, 519, 367,\n",
       "        357, 788, 551, 580],\n",
       "       [478, 153, 623, 314, 511, 200, 158, 522, 989, 162, 519, 951, 632,\n",
       "        726, 587, 802, 847, 537, 335, 668, 978, 699, 770, 446, 372, 404,\n",
       "        978,  69, 570, 218],\n",
       "       [396, 499, 506, 428, 965, 809,   6, 237,   5, 469, 834, 784, 166,\n",
       "        525,  81, 185, 508, 971, 423, 469, 528, 468, 999, 181, 311, 159,\n",
       "        145, 976, 477,   6],\n",
       "       [845, 858, 985, 486, 864,  43, 439, 356, 517, 348, 762, 108, 948,\n",
       "        701, 106, 630, 548, 977, 888, 977, 382,  61, 793, 296, 584, 370,\n",
       "        205, 253, 564, 827],\n",
       "       [836, 115, 748, 490, 475, 873, 931, 739, 513, 398, 806,  83, 232,\n",
       "        547, 652, 513, 822, 271,  30,  58, 878, 855, 859, 717,  78, 860,\n",
       "        714,  23, 247, 377],\n",
       "       [258, 970, 356,  49, 463, 674, 352, 580, 235, 826, 645, 149, 358,\n",
       "        116, 757, 380, 923, 760, 517, 768, 130, 272,  10, 286, 878, 848,\n",
       "        812, 866, 761, 811],\n",
       "       [206, 420, 382, 980, 904, 700, 952, 762, 169, 818, 754, 172, 995,\n",
       "        788, 481, 494, 519, 866, 328, 601, 726, 595, 767, 560, 732, 290,\n",
       "        973, 976, 806, 481],\n",
       "       [985, 267, 819, 255, 816, 900, 338, 419, 448, 112, 446, 961, 998,\n",
       "        912, 311, 837, 261, 508, 701, 542, 747, 327, 476, 325, 619, 570,\n",
       "        249, 916, 782, 732],\n",
       "       [ 76, 836, 132, 312, 910, 451, 106,  87,  25, 107, 167, 964, 966,\n",
       "        636, 155, 151, 107, 602, 566, 703, 680, 586, 499, 478, 378, 751,\n",
       "        553,  14, 595, 404],\n",
       "       [449, 839, 912, 794, 601, 806, 810, 603, 869, 391, 885,  62, 880,\n",
       "        800, 240,  73, 496, 235,  75, 660, 774, 367, 738, 636, 915, 373,\n",
       "        319,  75, 953, 759],\n",
       "       [160, 228, 139, 517, 755, 564, 381, 447, 491,  34, 418, 528, 689,\n",
       "        201, 282, 889, 655, 539, 421, 729, 240,  49,  83,  13, 819, 840,\n",
       "        856, 717,  74, 664],\n",
       "       [699, 136, 546, 550, 148, 631, 810, 490, 169, 986, 189, 121, 722,\n",
       "          2, 366, 774, 631, 931, 857, 786, 534,  62,  96, 197, 171, 765,\n",
       "         63, 198, 570, 763],\n",
       "       [158, 748, 754, 963, 146, 883, 600,  67,  22, 175, 405,  37, 718,\n",
       "        966, 921, 301, 306, 464, 844, 944, 482, 868, 904, 168, 730, 114,\n",
       "        200,  14, 878,  69],\n",
       "       [ 75, 202, 843,  36, 668, 434, 807, 490, 921, 733, 923, 789, 629,\n",
       "         52, 307, 920, 350, 609,  31, 635, 620, 320, 588,  93, 732, 894,\n",
       "        976, 115, 967, 902],\n",
       "       [ 35, 875, 462, 888, 628, 996, 385, 914, 642, 797, 434, 943, 442,\n",
       "        615, 368, 552, 506, 373, 426, 431, 174, 468, 352, 372, 134, 127,\n",
       "        137, 384, 732, 367],\n",
       "       [151, 616, 891, 294, 946, 348, 475, 542, 850, 109,  19,  74, 176,\n",
       "        556, 913, 925, 947, 782, 331, 192,  73, 827, 568, 620, 453, 825,\n",
       "         57, 863, 169, 908],\n",
       "       [266, 658, 722, 443, 706, 375, 491, 966, 734, 378,  33,  34, 572,\n",
       "        517, 647, 101,  48, 894,  96, 198, 287, 489, 143, 125, 358, 471,\n",
       "        856, 840, 758, 357],\n",
       "       [671, 215, 958, 494,  64, 126, 149, 848, 502, 211, 722,  17, 756,\n",
       "        885, 208, 513, 594, 829,  30, 757, 671, 682, 286, 758, 876, 115,\n",
       "         46, 381, 495, 162],\n",
       "       [ 75, 792, 409,  73, 778, 739,   1, 199, 733, 385, 340, 780,  57,\n",
       "        691, 980, 719, 861, 191, 574, 481,   1, 849,   8, 346, 280, 471,\n",
       "        178, 675, 287,   8],\n",
       "       [ 66, 457, 746,  13, 332,  86, 648, 369, 521, 213, 974, 314, 812,\n",
       "        803, 237, 446, 747, 485, 346,  92, 369, 619, 242, 206, 378, 704,\n",
       "        515, 832, 762, 304],\n",
       "       [903, 412, 696,  30, 261, 661, 539, 850, 347,  61, 691, 372, 529,\n",
       "        380, 724, 714, 829, 967,  90, 866, 526, 295, 441, 790, 411, 354,\n",
       "        898,  10, 871, 960],\n",
       "       [162, 980, 239, 661, 865, 903, 814, 904,  44, 366, 613, 597, 261,\n",
       "        243, 350, 552, 385,  88, 730,  61, 610,  51, 133, 537, 408, 422,\n",
       "        434, 695, 816, 493],\n",
       "       [394, 335, 346, 754,  28, 755, 234, 218, 942, 783, 503, 590, 475,\n",
       "         90, 562,  83, 716, 936, 133, 995, 319, 618, 515, 113, 591, 824,\n",
       "        903, 516, 132, 999]])"
      ]
     },
     "execution_count": 9,
     "metadata": {},
     "output_type": "execute_result"
    }
   ],
   "source": [
    "arr_rand = np.random.randint(0, 1000, 900)\n",
    "arr_rand_matrix = arr_rand.reshape(30,30)\n",
    "arr_rand_matrix"
   ]
  },
  {
   "cell_type": "code",
   "execution_count": 10,
   "metadata": {},
   "outputs": [
    {
     "name": "stdout",
     "output_type": "stream",
     "text": [
      "the minimum number is 0 and its index is 4\n",
      "the minimum number is 3 and its index is 21\n",
      "the minimum number is 10 and its index is 20\n",
      "the minimum number is 34 and its index is 26\n",
      "the minimum number is 10 and its index is 13\n",
      "the minimum number is 63 and its index is 29\n",
      "the minimum number is 21 and its index is 22\n",
      "the minimum number is 6 and its index is 0\n",
      "the minimum number is 69 and its index is 27\n",
      "the minimum number is 5 and its index is 8\n",
      "the minimum number is 43 and its index is 5\n",
      "the minimum number is 23 and its index is 27\n",
      "the minimum number is 10 and its index is 22\n",
      "the minimum number is 169 and its index is 8\n",
      "the minimum number is 112 and its index is 9\n",
      "the minimum number is 14 and its index is 27\n",
      "the minimum number is 62 and its index is 11\n",
      "the minimum number is 13 and its index is 23\n",
      "the minimum number is 2 and its index is 13\n",
      "the minimum number is 14 and its index is 27\n",
      "the minimum number is 31 and its index is 18\n",
      "the minimum number is 35 and its index is 0\n",
      "the minimum number is 19 and its index is 10\n",
      "the minimum number is 33 and its index is 10\n",
      "the minimum number is 17 and its index is 11\n",
      "the minimum number is 1 and its index is 6\n",
      "the minimum number is 13 and its index is 3\n",
      "the minimum number is 10 and its index is 27\n",
      "the minimum number is 44 and its index is 8\n",
      "the minimum number is 28 and its index is 4\n"
     ]
    }
   ],
   "source": [
    "for i in range(30):\n",
    "    print (\"the minimum number is {} and its index is {}\".format(arr_rand_matrix[i].min(), arr_rand_matrix[i].argmin()))"
   ]
  },
  {
   "cell_type": "code",
   "execution_count": 11,
   "metadata": {},
   "outputs": [
    {
     "data": {
      "text/plain": [
       "array([[762, 108, 948, 701, 106, 630, 548, 977, 888, 977],\n",
       "       [806,  83, 232, 547, 652, 513, 822, 271,  30,  58],\n",
       "       [645, 149, 358, 116, 757, 380, 923, 760, 517, 768],\n",
       "       [754, 172, 995, 788, 481, 494, 519, 866, 328, 601],\n",
       "       [446, 961, 998, 912, 311, 837, 261, 508, 701, 542],\n",
       "       [167, 964, 966, 636, 155, 151, 107, 602, 566, 703],\n",
       "       [885,  62, 880, 800, 240,  73, 496, 235,  75, 660],\n",
       "       [418, 528, 689, 201, 282, 889, 655, 539, 421, 729],\n",
       "       [189, 121, 722,   2, 366, 774, 631, 931, 857, 786],\n",
       "       [405,  37, 718, 966, 921, 301, 306, 464, 844, 944]])"
      ]
     },
     "execution_count": 11,
     "metadata": {},
     "output_type": "execute_result"
    }
   ],
   "source": [
    "arr_rand_matrix[10:20, 10:20]"
   ]
  },
  {
   "cell_type": "code",
   "execution_count": 12,
   "metadata": {},
   "outputs": [
    {
     "name": "stdout",
     "output_type": "stream",
     "text": [
      "The mean is 508.1688888888889, the median is 508.0, the std is 291.68132978168126\n"
     ]
    }
   ],
   "source": [
    "mean = np.mean(arr_rand_matrix)\n",
    "median = np.median(arr_rand_matrix)\n",
    "std = np.std(arr_rand_matrix)\n",
    "print(\"The mean is {}, the median is {}, the std is {}\".format(mean, median, std))"
   ]
  },
  {
   "cell_type": "code",
   "execution_count": 13,
   "metadata": {},
   "outputs": [
    {
     "data": {
      "text/plain": [
       "array([ 0. ,  1.5,  3. ,  4.5,  6. ,  7.5,  9. , 10.5, 12. , 13.5, 15. ,\n",
       "       16.5, 18. , 19.5])"
      ]
     },
     "execution_count": 13,
     "metadata": {},
     "output_type": "execute_result"
    }
   ],
   "source": [
    "arr1 = np.arange(0,20, 1.5)\n",
    "arr1"
   ]
  }
 ],
 "metadata": {
  "kernelspec": {
   "display_name": "Python 3",
   "language": "python",
   "name": "python3"
  },
  "language_info": {
   "codemirror_mode": {
    "name": "ipython",
    "version": 3
   },
   "file_extension": ".py",
   "mimetype": "text/x-python",
   "name": "python",
   "nbconvert_exporter": "python",
   "pygments_lexer": "ipython3",
   "version": "3.7.3"
  }
 },
 "nbformat": 4,
 "nbformat_minor": 2
}
